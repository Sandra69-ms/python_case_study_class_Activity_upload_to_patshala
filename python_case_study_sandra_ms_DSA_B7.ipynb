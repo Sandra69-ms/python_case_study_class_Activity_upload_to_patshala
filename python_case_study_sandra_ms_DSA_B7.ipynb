{
  "nbformat": 4,
  "nbformat_minor": 0,
  "metadata": {
    "colab": {
      "provenance": [],
      "include_colab_link": true
    },
    "kernelspec": {
      "name": "python3",
      "display_name": "Python 3"
    },
    "language_info": {
      "name": "python"
    }
  },
  "cells": [
    {
      "cell_type": "markdown",
      "metadata": {
        "id": "view-in-github",
        "colab_type": "text"
      },
      "source": [
        "<a href=\"https://colab.research.google.com/github/Sandra69-ms/python_case_study_class_Activity_upload_to_patshala/blob/main/python_case_study_sandra_ms_DSA_B7.ipynb\" target=\"_parent\"><img src=\"https://colab.research.google.com/assets/colab-badge.svg\" alt=\"Open In Colab\"/></a>"
      ]
    },
    {
      "cell_type": "markdown",
      "source": [
        "# Answer the following questions using only builtin Python datatypes and functions. Do not use Numpy or Scipy (i.e. No library imports allowed)"
      ],
      "metadata": {
        "id": "zVV_KMSIUG-A"
      }
    },
    {
      "cell_type": "markdown",
      "source": [
        "# Q1. Write a function that return the range (maximum and minimun) of a given list of numbers"
      ],
      "metadata": {
        "id": "uZnK7VgWV5SI"
      }
    },
    {
      "cell_type": "code",
      "source": [
        "data =input(\"Enter the number :\").split(\",\")\n",
        "def min_max(data):\n",
        "  minimum_value =data[0]\n",
        "  maximum_value =data[0]\n",
        "  for i in data:\n",
        "    if i<minimum_value:\n",
        "      minimum_value= i\n",
        "    if i >maximum_value:\n",
        "      maximum_value =i\n",
        "\n",
        "\n",
        "  print(minimum_value)\n",
        "  print(maximum_value)\n",
        "min_max(data)\n"
      ],
      "metadata": {
        "id": "vuAbJQcOWAM7",
        "colab": {
          "base_uri": "https://localhost:8080/"
        },
        "outputId": "4851516a-f729-4c6a-9988-aa6c26de2c1a"
      },
      "execution_count": null,
      "outputs": [
        {
          "output_type": "stream",
          "name": "stdout",
          "text": [
            "Enter the number :12.5,6,50\n",
            "12.5\n",
            "6\n"
          ]
        }
      ]
    },
    {
      "cell_type": "markdown",
      "source": [
        "## Q2. Write function that returns mean value of a list of numbers"
      ],
      "metadata": {
        "id": "Y5_v5a8_U1O-"
      }
    },
    {
      "cell_type": "code",
      "source": [
        "data_set = input(\"Enter the number :\").split(\",\")# to seperate the numbers we here use split\n",
        "\n",
        "def mean1(data):\n",
        "  print(data_set)\n",
        "  sum =0\n",
        "  for i in data:\n",
        "    sum =sum +  int(i)\n",
        "  Average = sum/len(data)\n",
        "  print(Average)\n",
        "\n",
        "\n",
        "mean1(data_set)\n"
      ],
      "metadata": {
        "id": "RajjEyacU7Sc",
        "colab": {
          "base_uri": "https://localhost:8080/"
        },
        "outputId": "c13290d8-c698-45a7-aca7-6648977f1a81"
      },
      "execution_count": null,
      "outputs": [
        {
          "output_type": "stream",
          "name": "stdout",
          "text": [
            "Enter the number :56,87,90\n",
            "['56', '87', '90']\n",
            "77.66666666666667\n"
          ]
        }
      ]
    },
    {
      "cell_type": "markdown",
      "source": [
        "# Q3. Write a function that returns the median value of a list of numbers"
      ],
      "metadata": {
        "id": "OpeRxoEoVTIP"
      }
    },
    {
      "cell_type": "code",
      "source": [
        "def  median_1(data):\n",
        "  data.sort()\n",
        "  middle_value =len(data)//2\n",
        "  if len(data)%2 != 0:\n",
        "    median_2= [middle_value]\n",
        "  else:\n",
        "    median_2 = (data[middle_value-1]+data[middle_value])//2\n",
        "  print(f\"median :{median_2}\")\n",
        "\n",
        "data =list(map(int,input(\"Enter the numbers :\" ).split(\",\")))\n",
        "median_1(data)"
      ],
      "metadata": {
        "id": "u1CUy0UOVaQi",
        "colab": {
          "base_uri": "https://localhost:8080/"
        },
        "outputId": "b1771324-a409-497c-ecf7-fdc75056ddb0"
      },
      "execution_count": null,
      "outputs": [
        {
          "output_type": "stream",
          "name": "stdout",
          "text": [
            "Enter the numbers :23,78,58,96\n",
            "median :68\n"
          ]
        }
      ]
    },
    {
      "cell_type": "markdown",
      "source": [
        "## Q4. Write a function to return the mod of a list of numbers, if no mod exists, it should return None. If more than one mod exist, return the mod values as list"
      ],
      "metadata": {
        "id": "2EMOG7AZSqVn"
      }
    },
    {
      "cell_type": "code",
      "execution_count": null,
      "metadata": {
        "id": "qnMm2dhhSk3-",
        "colab": {
          "base_uri": "https://localhost:8080/"
        },
        "outputId": "712d91a3-95c2-41f2-e3a9-c2c5d684e8c3"
      },
      "outputs": [
        {
          "output_type": "stream",
          "name": "stdout",
          "text": [
            "Enter the  list of numbers :2,5,9,7,6,5\n",
            "mode: 5\n"
          ]
        }
      ],
      "source": [
        "def mod_value(list3):\n",
        "  frequency ={}\n",
        "  for j in list3:\n",
        "    if j in frequency:\n",
        "      frequency[j] +=1\n",
        "    else:\n",
        "      frequency[j] =1\n",
        "  mod_count =0\n",
        "  mod_val = None\n",
        "  for i in frequency:\n",
        "    if frequency[j]>mod_count:\n",
        "      mod_count =frequency[j]\n",
        "      mod_val= j\n",
        "  if mod_count ==1:\n",
        "      print(f\"There is no mode exist\")\n",
        "  else:\n",
        "      print(f\"mode: { mod_val}\")\n",
        "\n",
        "\n",
        "\n",
        "mod_num =list(map(int,input(\"Enter the  list of numbers :\" ).split(\",\")))\n",
        "\n",
        "mod_value(mod_num)"
      ]
    },
    {
      "cell_type": "markdown",
      "source": [
        "## Q5. Write function to compute a given percentile value (e.g. 90th percentile) of a list of numbers"
      ],
      "metadata": {
        "id": "LcqWwqtgTCiL"
      }
    },
    {
      "cell_type": "code",
      "source": [
        " def percentile(data_per,p):\n",
        "  per_num.sort()\n",
        "  length =len(data_per)\n",
        "  index = length*p\n",
        "  index_int =int(index)\n",
        "  percentile_num = data_per[index_int]\n",
        "  print(f\" the percentile is : {percentile_num}\")\n",
        "\n",
        "\n",
        "\n",
        "\n",
        "\n",
        "\n",
        "\n",
        " per_num =list(map(int,input(\"Enter the  list of numbers to find 90 th percentile :\" ).split(\",\")))\n",
        " percentile(per_num,.9)\n",
        "\n"
      ],
      "metadata": {
        "id": "Sn307h0TTb2b",
        "colab": {
          "base_uri": "https://localhost:8080/"
        },
        "outputId": "d7bebe03-f27f-4bbe-f4dc-d27b056d9b91"
      },
      "execution_count": null,
      "outputs": [
        {
          "output_type": "stream",
          "name": "stdout",
          "text": [
            "Enter the  list of numbers to find 90 th percentile :78,5,67,89,90\n",
            " the percentile is : 90\n"
          ]
        }
      ]
    },
    {
      "cell_type": "markdown",
      "source": [
        "# Q6. Write a function that returns the lower bound of a list of numbers"
      ],
      "metadata": {
        "id": "N-TYHkDcWOfS"
      }
    },
    {
      "cell_type": "code",
      "source": [
        "def percentile(data_per1):\n",
        "  per_num.sort()\n",
        "  length =len(data_per1)\n",
        "\n",
        "  var1= len(data_per1)*0.25\n",
        "  var2=len(data_per1)*0.75\n",
        "  var1_int =int(var1)\n",
        "  var2_int = int(var2)\n",
        "\n",
        "  q1 = data_per1[var1_int-1]\n",
        "  q3 = data_per1[var2_int-1]\n",
        "\n",
        "  iqr =q3 -q1\n",
        "\n",
        "  lower_bound = q1-(1.5*iqr )\n",
        "  print( f\" the Lower bound is : {lower_bound}\")\n",
        "\n",
        "data_set = [55,60,70,72,85,95,105,130,190,290,315,350]\n",
        "percentile(data_set)\n",
        "\n",
        "\n"
      ],
      "metadata": {
        "id": "Y-RKPdKuW5nx",
        "colab": {
          "base_uri": "https://localhost:8080/"
        },
        "outputId": "5a1a5073-7ff0-4780-be43-4318106d9da0"
      },
      "execution_count": null,
      "outputs": [
        {
          "output_type": "stream",
          "name": "stdout",
          "text": [
            " the Lower bound is : -110.0\n"
          ]
        }
      ]
    },
    {
      "cell_type": "markdown",
      "source": [
        "## Q7. Write function to return any outliers from a given list of numbers, if no outliers present it should return None"
      ],
      "metadata": {
        "id": "5aHfaI_jThpX"
      }
    },
    {
      "cell_type": "code",
      "source": [
        "def outliers(list_1):\n",
        "  len1 = int(len(list_1)*0.25)\n",
        "  len3 = int(len(list_1)*0.75)\n",
        "\n",
        "  q1 = list_1[len1-1]\n",
        "  q3 = list_1[len3-1]\n",
        "\n",
        "  iqr = q3 - q1\n",
        "\n",
        "  low_bound =  q1 - (1.5*iqr)\n",
        "  high_bound = q3 + (1.5*iqr)\n",
        "  print(\"Lower Bound:\",low_bound)\n",
        "  print(\"upper Bound:\",high_bound)\n",
        "\n",
        "  outlier = []\n",
        "  for x in list_1:\n",
        "    if x < low_bound or x > high_bound:\n",
        "      outlier.append(x)\n",
        "  if outlier:\n",
        "    print(\"Outlier:\",outlier)\n",
        "  else:\n",
        "    print(\"No Outliers\")\n",
        "\n",
        "\n",
        "data = [55,60,70,72,85,95,105,130,190,290,315,380]\n",
        "outliers(data)"
      ],
      "metadata": {
        "id": "gG6-qzT7T0Si",
        "colab": {
          "base_uri": "https://localhost:8080/"
        },
        "outputId": "29b10361-31f8-428d-c6b7-3165b9e49c87"
      },
      "execution_count": null,
      "outputs": [
        {
          "output_type": "stream",
          "name": "stdout",
          "text": [
            "Lower Bound: -110.0\n",
            "upper Bound: 370.0\n",
            "Outlier: [380]\n"
          ]
        }
      ]
    },
    {
      "cell_type": "markdown",
      "source": [
        "##Q8. Write a function to return standard deviation of a list of numbers"
      ],
      "metadata": {
        "id": "jI9t-tcDT5EK"
      }
    },
    {
      "cell_type": "code",
      "source": [
        "def standard_deviation(data_list2):\n",
        "  data_len = len(data_list2)\n",
        "  sum = 0\n",
        "  for i in data_list2:\n",
        "    sum +=i\n",
        "  mean = sum / data_len\n",
        "  #print(f\"Mean:{mean}\")\n",
        "  variance = 0\n",
        "  for i in data_list2:\n",
        "    variance += (i - mean)**2\n",
        "  std_deviation = (variance / data_len)**0.5\n",
        "  print(\"Standard Deviation: \",std_deviation)\n",
        "\n",
        "data = [55,60,70,72,85,95,105,130,190,290,315,380]\n",
        "standard_deviation(data)"
      ],
      "metadata": {
        "id": "MMU_cMlLUFxJ",
        "colab": {
          "base_uri": "https://localhost:8080/"
        },
        "outputId": "66e059d0-4deb-4fa8-cd6a-704a9950d5b4"
      },
      "execution_count": null,
      "outputs": [
        {
          "output_type": "stream",
          "name": "stdout",
          "text": [
            "Standard Deviation:  108.17613594914957\n"
          ]
        }
      ]
    },
    {
      "cell_type": "markdown",
      "source": [
        "## Q9. Write function to compute and return Z-score values of a list of numbers"
      ],
      "metadata": {
        "id": "LufmQDJPURkM"
      }
    },
    {
      "cell_type": "code",
      "source": [
        "def Z_score(data):\n",
        " mean=sum(data)/len(data)\n",
        "\n",
        " sum_of_diff = 0\n",
        " for i in data:\n",
        "  sum_of_diff +=((i-mean))\n",
        "\n",
        " variance=sum_of_diff/len(data)\n",
        " standard_dev=variance**.5\n",
        "\n",
        " z_score=[]\n",
        " for x in data:\n",
        "    z=(x-mean)/standard_dev\n",
        "    z_score.append(z)\n",
        " return z_score\n",
        "\n",
        "data2=[34,67,89,56,89,80,35,876,992,321]\n",
        "Z_score(data2)"
      ],
      "metadata": {
        "id": "ml2qpSpFUYxV",
        "colab": {
          "base_uri": "https://localhost:8080/"
        },
        "outputId": "d12b76c6-0a2f-4cbc-8e7f-7421bfc3a872"
      },
      "execution_count": null,
      "outputs": [
        {
          "output_type": "execute_result",
          "data": {
            "text/plain": [
              "[-1244867849.1533573,\n",
              " -1066178684.2031145,\n",
              " -947052574.236286,\n",
              " -1125741739.1865287,\n",
              " -947052574.236286,\n",
              " -995785982.8590796,\n",
              " -1239453025.9730468,\n",
              " 3314413268.6679864,\n",
              " 3942532757.583991,\n",
              " 309186403.5957231]"
            ]
          },
          "metadata": {},
          "execution_count": 25
        }
      ]
    },
    {
      "cell_type": "markdown",
      "source": [
        "## Q10. Write a function to compute and return the Pearson correlation coefficient value of two list of numbers"
      ],
      "metadata": {
        "id": "YQSNHIfxUb6s"
      }
    },
    {
      "cell_type": "code",
      "source": [
        "def mean_1(data):\n",
        "\n",
        "    return sum(data) / len(data)\n",
        "\n",
        "def calculate_standard_deviation(data):\n",
        "    mean = mean_1(data)\n",
        "    sum_of_squared_differences = sum([(x - mean) ** 2 for x in data])\n",
        "    variance = sum_of_squared_differences / (len(data) - 1)\n",
        "    return (variance)**.5\n",
        "\n",
        "def pearson_correlation(list_x, list_y):\n",
        "\n",
        "    mean_x = mean_1(list_x)\n",
        "    mean_y = mean_1(list_y)\n",
        "\n",
        "    std_dev_x = calculate_standard_deviation(list_x)\n",
        "    std_dev_y = calculate_standard_deviation(list_y)\n",
        "\n",
        "\n",
        "    numerator = sum([(x - mean_x) * (y - mean_y) for x, y in zip(list_x, list_y)])\n",
        "\n",
        "\n",
        "    denominator = (len(list_x) - 1) * std_dev_x * std_dev_y\n",
        "\n",
        "\n",
        "    correlation = numerator / denominator\n",
        "\n",
        "    return correlation\n",
        "\n",
        "\n",
        "\n",
        "x = [6,12,18,24,30,36,42,54,60]\n",
        "y = [5,10,15,20,25,30,35,40,45]\n",
        "corr1 = pearson_correlation(x, y)\n",
        "print(f\"Lists X: {x}\")\n",
        "print(f\"Lists Y: {y}\")\n",
        "print(f\"Correlation: {corr1:.2f}\")\n"
      ],
      "metadata": {
        "id": "1YGqr3T6Uk6H",
        "colab": {
          "base_uri": "https://localhost:8080/"
        },
        "outputId": "b0b34a80-276a-48a5-a249-3863d59dd22d"
      },
      "execution_count": null,
      "outputs": [
        {
          "output_type": "stream",
          "name": "stdout",
          "text": [
            "Lists X: [6, 12, 18, 24, 30, 36, 42, 54, 60]\n",
            "Lists Y: [5, 10, 15, 20, 25, 30, 35, 40, 45]\n",
            "Correlation: 1.00\n"
          ]
        }
      ]
    }
  ]
}