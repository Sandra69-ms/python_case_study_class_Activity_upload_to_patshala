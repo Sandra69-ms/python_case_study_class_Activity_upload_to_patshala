{
  "nbformat": 4,
  "nbformat_minor": 0,
  "metadata": {
    "colab": {
      "provenance": [],
      "authorship_tag": "ABX9TyN8mk2zqO+fvbxm+b8KGUsf",
      "include_colab_link": true
    },
    "kernelspec": {
      "name": "python3",
      "display_name": "Python 3"
    },
    "language_info": {
      "name": "python"
    }
  },
  "cells": [
    {
      "cell_type": "markdown",
      "metadata": {
        "id": "view-in-github",
        "colab_type": "text"
      },
      "source": [
        "<a href=\"https://colab.research.google.com/github/Sandra69-ms/python_case_study_class_Activity_upload_to_patshala/blob/main/python_assesment_SandramsDSAB7.ipynb\" target=\"_parent\"><img src=\"https://colab.research.google.com/assets/colab-badge.svg\" alt=\"Open In Colab\"/></a>"
      ]
    },
    {
      "cell_type": "markdown",
      "source": [
        "# Question number 1\n",
        "\n",
        "A grocery store wants to automate billing.\n",
        "\n",
        "● Take the names and prices of items from the user until they type \"done\".\n",
        "\n",
        "● Print the total bill.\n",
        "\n",
        "● If total bill > ₹500, apply 10% discount.\n"
      ],
      "metadata": {
        "id": "Z4KyZsJ0q_dG"
      }
    },
    {
      "cell_type": "code",
      "execution_count": null,
      "metadata": {
        "colab": {
          "base_uri": "https://localhost:8080/"
        },
        "id": "VNyoPuK9q3Jy",
        "outputId": "1cd4f1d0-db2f-4ff6-b58c-1b5175c5a7c5"
      },
      "outputs": [
        {
          "output_type": "stream",
          "name": "stdout",
          "text": [
            "Enter item name (or 'done' to finish): milk\n",
            "Enter price of 'milk': 68\n",
            "Enter item name (or 'done' to finish): lemon\n",
            "Enter price of 'lemon': 89\n",
            "Enter item name (or 'done' to finish): curd\n",
            "Enter price of 'curd': 78\n",
            "Enter item name (or 'done' to finish): apple\n",
            "Enter price of 'apple': 150\n",
            "Enter item name (or 'done' to finish): custsrd \n",
            "Enter price of 'custsrd ': 78\n",
            "Enter item name (or 'done' to finish): flour\n",
            "Enter price of 'flour': 79\n",
            "Enter item name (or 'done' to finish): done\n",
            "\n",
            "------- BILL -------\n",
            "Subtotal      : 542.00\n",
            "Discount (10%): -54.20\n",
            "Grand Total   : 487.80\n",
            "--------------------\n"
          ]
        }
      ],
      "source": [
        "\n",
        "total = 0\n",
        "while True:\n",
        "    item_name = input(\"Enter item name (or 'done' to finish): \")\n",
        "    if item_name.lower() == 'done':\n",
        "        break\n",
        "    try:\n",
        "        price = float(input(f\"Enter price of '{item_name}': \"))\n",
        "        total += price\n",
        "    except ValueError:\n",
        "        print(\"Invalid price. Please enter a number.\")\n",
        "\n",
        "print(\"\\n BILL \")\n",
        "print(f\"Subtotal      : {total:.2f}\")\n",
        "\n",
        "discount = 0\n",
        "if total > 500:\n",
        "    discount = total * 0.10\n",
        "    print(f\"Discount (10%): -{discount:.2f}\")\n",
        "\n",
        "grand_total = total - discount\n",
        "print(f\"Grand Total   : {grand_total:.2f}\")\n"
      ]
    },
    {
      "cell_type": "markdown",
      "source": [
        "# Question number 2\n",
        "\n",
        "A school stores student marks in a list.\n",
        "\n",
        "● Input marks for 5 subjects.\n",
        "\n",
        "● Calculate percentage.\n",
        "\n",
        "● Print grade:\n",
        "\n",
        "○ ≥ 90: A\n",
        "\n",
        "○ ≥ 75: B\n",
        "\n",
        "○ ≥ 50: C\n",
        "\n",
        "○ else: Fail\n"
      ],
      "metadata": {
        "id": "NUhrEqPgrNjV"
      }
    },
    {
      "cell_type": "code",
      "source": [
        "\n",
        "marks = []\n",
        "for i in range(1, 6):# here we use start stop range\n",
        "    score = float(input(f\"Enter marks for subject {i}: \"))\n",
        "    marks.append(score)\n",
        "\n",
        "total = sum(marks)\n",
        "percentage = total / 5\n",
        "\n",
        "\n",
        "if percentage >= 90:\n",
        "    grade = \"A\"\n",
        "elif percentage >= 75:\n",
        "    grade = \"B\"\n",
        "elif percentage >= 50:\n",
        "    grade = \"C\"\n",
        "else:\n",
        "    grade = \"Fail\"\n",
        "\n",
        "\n",
        "print(\"\\n Result \")\n",
        "print(f\"Marks       : {marks}\")\n",
        "print(f\"Total Marks : {total}\")\n",
        "print(f\"Percentage  : {percentage:.2f}%\")\n",
        "print(f\"Grade       : {grade}\")\n"
      ],
      "metadata": {
        "colab": {
          "base_uri": "https://localhost:8080/"
        },
        "id": "r_QCADGarPGh",
        "outputId": "f61d4433-c98f-4054-9d08-daa34c2592c3"
      },
      "execution_count": null,
      "outputs": [
        {
          "output_type": "stream",
          "name": "stdout",
          "text": [
            "Enter marks for subject 1: 67\n",
            "Enter marks for subject 2: 89\n",
            "Enter marks for subject 3: 67\n",
            "Enter marks for subject 4: 90\n",
            "Enter marks for subject 5: 100\n",
            "\n",
            "----- Result -----\n",
            "Marks       : [67.0, 89.0, 67.0, 90.0, 100.0]\n",
            "Total Marks : 413.0\n",
            "Percentage  : 82.60%\n",
            "Grade       : B\n"
          ]
        }
      ]
    },
    {
      "cell_type": "markdown",
      "source": [
        "# Question Number 3\n",
        "\n",
        "Simulate an ATM with:\n",
        "\n",
        "● Starting balance = ₹1000\n",
        "\n",
        "● Options: Deposit, Withdraw, Check balance, Exit\n",
        "\n",
        "● Prevent withdrawal if funds are insufficient."
      ],
      "metadata": {
        "id": "LHfltUmhrQpT"
      }
    },
    {
      "cell_type": "code",
      "source": [
        "\n",
        "balance = 1000\n",
        "\n",
        "while True:\n",
        "    print(\"\\n ATM Menu \")\n",
        "    print(\"1. Deposit\")\n",
        "    print(\"2. Withdraw\")\n",
        "    print(\"3. Check Balance\")\n",
        "    print(\"4. Exit\")\n",
        "\n",
        "    choice = input(\"Enter your choice (1-4): \")\n",
        "\n",
        "    # Option 1: Deposit\n",
        "    if choice == '1':\n",
        "        amount = float(input(\"Enter amount to deposit: ₹\"))\n",
        "        if amount > 0:\n",
        "            balance += amount\n",
        "            print(f\" ₹{amount:.2f} deposited successfully.\")\n",
        "        else:\n",
        "            print(\"Invalid amount. Deposit must be positive.\")\n",
        "\n",
        "    # Option 2: Withdraw\n",
        "    elif choice == '2':\n",
        "        amount = float(input(\"Enter amount to withdraw: ₹\"))\n",
        "        if amount <= 0:\n",
        "            print(\"Invalid amount. Withdrawal must be positive.\")\n",
        "        elif amount > balance:\n",
        "            print(\"Insufficient funds! Withdrawal denied.\")\n",
        "        else:\n",
        "            balance -= amount\n",
        "            print(f\" ₹{amount:.2f} withdrawn successfully.\")\n",
        "\n",
        "    # Option 3: Check Balance\n",
        "    elif choice == '3':\n",
        "        print(f\"Your current balance is: ₹{balance:.2f}\")\n",
        "\n",
        "    # Option 4: Exit\n",
        "    elif choice == '4':\n",
        "        print(\"Thank you for using the ATM. Goodbye!\")\n",
        "        break\n",
        "\n",
        "    # Invalid input\n",
        "    else:\n",
        "        print(\"Invalid choice. Please select 1–4.\")\n"
      ],
      "metadata": {
        "colab": {
          "base_uri": "https://localhost:8080/"
        },
        "id": "7M0h3avRrP7-",
        "outputId": "603c5e9d-17d3-45af-d77d-d0f46db1eb1f"
      },
      "execution_count": null,
      "outputs": [
        {
          "output_type": "stream",
          "name": "stdout",
          "text": [
            "\n",
            " ATM Menu \n",
            "1. Deposit\n",
            "2. Withdraw\n",
            "3. Check Balance\n",
            "4. Exit\n",
            "Enter your choice (1-4): 3\n",
            "Your current balance is: ₹1000.00\n",
            "\n",
            " ATM Menu \n",
            "1. Deposit\n",
            "2. Withdraw\n",
            "3. Check Balance\n",
            "4. Exit\n",
            "Enter your choice (1-4): 2\n",
            "Enter amount to withdraw: ₹500\n",
            " ₹500.00 withdrawn successfully.\n",
            "\n",
            " ATM Menu \n",
            "1. Deposit\n",
            "2. Withdraw\n",
            "3. Check Balance\n",
            "4. Exit\n",
            "Enter your choice (1-4): 4\n",
            "Thank you for using the ATM. Goodbye!\n"
          ]
        }
      ]
    },
    {
      "cell_type": "markdown",
      "source": [
        "# Question number 4\n",
        "\n",
        "Cricket Score Tracker\n",
        "\n",
        "Store player scores in a dictionary.\n",
        "\n",
        "● Add 5 players with scores.\n",
        "\n",
        "● Find and print top scorer’s name and score.\n",
        "\n",
        "● Update a player’s score after a match.\n"
      ],
      "metadata": {
        "id": "GtudMiw2rPiR"
      }
    },
    {
      "cell_type": "code",
      "source": [
        "\n",
        "scores = {\"Virat\": 85,\"Rohit\": 70,\"Dhoni\": 90,\"Rahul\": 65,\"Hardik\": 40}\n",
        "\n",
        "\n",
        "top_player = max(scores, key=scores.get)\n",
        "print(f\"Top Scorer: {top_player} - {scores[top_player]} runs\")\n",
        "\n",
        "name = input(\"Enter player name to update: \")\n",
        "new_score = int(input(\"Enter new score: \"))\n",
        "\n",
        "if name in scores:\n",
        "    scores[name] = new_score\n",
        "    print(f\"Updated! {name} now has {new_score} runs.\")\n",
        "else:\n",
        "    print(\"Player not found.\")\n",
        "\n",
        "# Print updated scores\n",
        "print(\"Updated Scores:\", scores)\n"
      ],
      "metadata": {
        "colab": {
          "base_uri": "https://localhost:8080/"
        },
        "id": "Aj8hRjmlrRbq",
        "outputId": "b74dbcbf-a0b0-424f-c086-4257787e7361"
      },
      "execution_count": null,
      "outputs": [
        {
          "output_type": "stream",
          "name": "stdout",
          "text": [
            "Top Scorer: Dhoni - 90 runs\n",
            "Enter player name to update: Rahul\n",
            "Enter new score: 98\n",
            "Updated! Rahul now has 98 runs.\n",
            "Updated Scores: {'Virat': 85, 'Rohit': 70, 'Dhoni': 90, 'Rahul': 98, 'Hardik': 40}\n"
          ]
        }
      ]
    },
    {
      "cell_type": "markdown",
      "source": [
        "# Question number 5\n",
        "\n",
        "Restaurant Order System\n",
        "\n",
        "● Menu stored in dictionary (item: price).\n",
        "\n",
        "● Take multiple orders from user.\n",
        "● Print final bill amount.\n",
        "● If order contains \"Pizza\", give ₹50 off.\n"
      ],
      "metadata": {
        "id": "841NHypBrR8J"
      }
    },
    {
      "cell_type": "code",
      "source": [
        "\n",
        "menu = {\"Pizza\": 300, \"Burger\": 150, \"Pasta\": 200, \"Sandwich\": 120, \"Coffee\": 80}\n",
        "\n",
        "orders = []\n",
        "while True:\n",
        "    item = input(\"Enter item (or 'done' to finish): \").title()\n",
        "    if item.lower() == \"done\":\n",
        "        break\n",
        "    if item in menu:\n",
        "        orders.append(item)\n",
        "    else:\n",
        "        print(\"Item not in menu.\")\n",
        "\n",
        "bill = sum(menu[i] for i in orders)\n",
        "\n",
        "if \"Pizza\" in orders:\n",
        "    bill -= 50\n",
        "\n",
        "print(\"Final Bill: ₹\", bill)\n"
      ],
      "metadata": {
        "colab": {
          "base_uri": "https://localhost:8080/"
        },
        "id": "4E5eTQPLrSfJ",
        "outputId": "4a7d57c1-8a63-4974-e7ad-8f2a820f2fcf"
      },
      "execution_count": null,
      "outputs": [
        {
          "output_type": "stream",
          "name": "stdout",
          "text": [
            "Enter item (or 'done' to finish): pizza\n",
            "Enter item (or 'done' to finish): coffee\n",
            "Enter item (or 'done' to finish): pasta\n",
            "Enter item (or 'done' to finish): done\n",
            "Final Bill: ₹ 530\n"
          ]
        }
      ]
    },
    {
      "cell_type": "markdown",
      "source": [
        "# Question number 6\n",
        "\n",
        "Write a program that:\n",
        "\n",
        "● Asks user for temperature in Celsius.\n",
        "\n",
        "● Converts to Fahrenheit using formula:"
      ],
      "metadata": {
        "id": "JCWGIwO0tZDY"
      }
    },
    {
      "cell_type": "code",
      "source": [
        "celsius = float(input(\"Enter temperature in Celsius: \"))\n",
        "\n",
        "fahren = (celsius * 9/5) + 32\n",
        "\n",
        "print(f\"{celsius} deg C = {fahren} deg F\")\n"
      ],
      "metadata": {
        "colab": {
          "base_uri": "https://localhost:8080/"
        },
        "id": "uUxukFOLtZkL",
        "outputId": "f56c86d6-a8d2-4261-8fc8-c4a559c785b4"
      },
      "execution_count": null,
      "outputs": [
        {
          "output_type": "stream",
          "name": "stdout",
          "text": [
            "Enter temperature in Celsius: 90\n",
            "90.0 deg C = 194.0 deg F\n"
          ]
        }
      ]
    },
    {
      "cell_type": "markdown",
      "source": [
        "# Question number 7\n",
        "\n",
        "Online Shopping Cart\n",
        "\n",
        "● Create a cart as a list.\n",
        "\n",
        "● Allow user to add items, remove items, and view cart.\n",
        "\n",
        "● Exit when user types \"checkout\"."
      ],
      "metadata": {
        "id": "Zc_DPs1vtkOy"
      }
    },
    {
      "cell_type": "code",
      "source": [
        "\n",
        "\n",
        "cart = []\n",
        "\n",
        "while True:\n",
        "    action = input(\"Enter action (add/remove/view/checkout): \").lower()\n",
        "\n",
        "    if action == \"add\":\n",
        "        item = input(\"Enter item to add: \")\n",
        "        cart.append(item)\n",
        "\n",
        "    elif action == \"remove\":\n",
        "        item = input(\"Enter item to remove: \")\n",
        "        if item in cart:\n",
        "            cart.remove(item)\n",
        "\n",
        "    elif action == \"view\":\n",
        "        print(\"Cart:\", cart)\n",
        "\n",
        "    elif action == \"checkout\":\n",
        "        print(\"Final Cart:\", cart)\n",
        "        break\n"
      ],
      "metadata": {
        "colab": {
          "base_uri": "https://localhost:8080/"
        },
        "id": "L3p3wkSHtjxG",
        "outputId": "ad603e3e-462e-42e2-da1d-5705c56b2285"
      },
      "execution_count": null,
      "outputs": [
        {
          "output_type": "stream",
          "name": "stdout",
          "text": [
            "Enter action (add/remove/view/checkout): add\n",
            "Enter item to add: shirt\n",
            "Enter action (add/remove/view/checkout): add\n",
            "Enter item to add: pants\n",
            "Enter action (add/remove/view/checkout): add\n",
            "Enter item to add: shoes\n",
            "Enter action (add/remove/view/checkout): remove\n",
            "Enter item to remove: pants\n",
            "Enter action (add/remove/view/checkout): view\n",
            "Cart: ['shirt', 'shoes']\n",
            "Enter action (add/remove/view/checkout): checkout\n",
            "Final Cart: ['shirt', 'shoes']\n"
          ]
        }
      ]
    },
    {
      "cell_type": "markdown",
      "source": [
        "# Question number 8\n",
        "\n",
        "Student Attendance Tracker\n",
        "\n",
        "● Store student names in a list.\n",
        "\n",
        "● Mark attendance as P or A.\n",
        "\n",
        "● Print the total number of present and absent students."
      ],
      "metadata": {
        "id": "9yg-UrdBtlNo"
      }
    },
    {
      "cell_type": "code",
      "source": [
        "\n",
        "\n",
        "students = [\"Anu\", \"Rahul\", \"Meera\", \"Kiran\", \"Arjun\"]\n",
        "\n",
        "present = 0\n",
        "absent = 0\n",
        "\n",
        "for name in students:\n",
        "    status = input(f\"Mark {name} (P/A): \").upper()\n",
        "    if status == \"P\":\n",
        "        present += 1\n",
        "    else:\n",
        "        absent += 1\n",
        "\n",
        "print(\"\\nTotal Present:\", present)\n",
        "print(\"Total Absent :\", absent)\n"
      ],
      "metadata": {
        "colab": {
          "base_uri": "https://localhost:8080/"
        },
        "id": "kzTxg4dQtkvk",
        "outputId": "13c1ba05-24f3-4d48-d54e-125877c2ca7e"
      },
      "execution_count": null,
      "outputs": [
        {
          "output_type": "stream",
          "name": "stdout",
          "text": [
            "Mark Anu (P/A): P\n",
            "Mark Rahul (P/A): A\n",
            "Mark Meera (P/A): P\n",
            "Mark Kiran (P/A): P\n",
            "Mark Arjun (P/A): A\n",
            "\n",
            "Total Present: 3\n",
            "Total Absent : 2\n"
          ]
        }
      ]
    },
    {
      "cell_type": "markdown",
      "source": [
        "# Question number 9\n",
        "\n",
        "Cinema Ticket Booking System\n",
        "\n",
        "Create a program where users can book movie tickets. A theater has 50 seats in total. Each ticket costs ₹120.\n",
        "\n",
        "● Ask the user how many tickets they want.\n",
        "\n",
        "● If enough seats are available → confirm booking and reduce available seats.\n",
        "\n",
        "● If not enough seats → show an error message.\n",
        "\n",
        "● Show remaining seats after each booking\n"
      ],
      "metadata": {
        "id": "Op7EpvljvhR4"
      }
    },
    {
      "cell_type": "code",
      "source": [
        "\n",
        "seats = 50\n",
        "price = 120\n",
        "\n",
        "while seats > 0:\n",
        "    print(\"Available seats:\", seats)\n",
        "    tickets = int(input(\"How many tickets? \"))\n",
        "\n",
        "    if tickets <= seats:\n",
        "        seats -= tickets\n",
        "        print(\"Booking confirmed! Pay ₹\", tickets * price)\n",
        "    else:\n",
        "        print(\"Not enough seats!\")\n",
        "\n",
        "print(\"House Full!\")\n"
      ],
      "metadata": {
        "colab": {
          "base_uri": "https://localhost:8080/"
        },
        "id": "k28TlzsWvg3v",
        "outputId": "2b1c0ad3-d4d4-4188-81b2-19993e85a8a3"
      },
      "execution_count": null,
      "outputs": [
        {
          "output_type": "stream",
          "name": "stdout",
          "text": [
            "Available seats: 50\n",
            "How many tickets? 45\n",
            "Booking confirmed! Pay ₹ 5400\n",
            "Available seats: 5\n",
            "How many tickets? 8\n",
            "Not enough seats!\n",
            "Available seats: 5\n",
            "How many tickets? 5\n",
            "Booking confirmed! Pay ₹ 600\n",
            "House Full!\n"
          ]
        }
      ]
    },
    {
      "cell_type": "markdown",
      "source": [
        "# Question number 10\n",
        "\n",
        "Bank Loan Eligibility Checker .\n",
        "\n",
        "A bank provides loans only if:\n",
        "\n",
        "● Salary ≥ 25,000\n",
        "\n",
        "● Credit Score ≥ 650\n",
        "\n",
        "● Age between 21 and 60\n",
        "\n",
        "Ask the user for salary, credit score, and age, then decide if they are eligible.\n"
      ],
      "metadata": {
        "id": "k2OV6Kl1vvY4"
      }
    },
    {
      "cell_type": "code",
      "source": [
        "\n",
        "salary = int(input(\"Enter your monthly salary: ₹\"))\n",
        "credit_score = int(input(\"Enter your credit score: \"))\n",
        "age = int(input(\"Enter your age: \"))\n",
        "\n",
        "if salary >= 25000 and credit_score >= 650 and 21 <= age <= 60:\n",
        "    print(\"You are eligible for the loan.\")\n",
        "else:\n",
        "    print(\" Sorry, you are not eligible for the loan.\")\n"
      ],
      "metadata": {
        "colab": {
          "base_uri": "https://localhost:8080/"
        },
        "id": "ToJqKL-jvv4_",
        "outputId": "ff8c609c-830b-482b-e88a-a925c94d19e0"
      },
      "execution_count": null,
      "outputs": [
        {
          "output_type": "stream",
          "name": "stdout",
          "text": [
            "Enter your monthly salary: ₹90000\n",
            "Enter your credit score: 900\n",
            "Enter your age: 60\n",
            "You are eligible for the loan.\n"
          ]
        }
      ]
    }
  ]
}