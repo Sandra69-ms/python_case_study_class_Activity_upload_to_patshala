{
  "nbformat": 4,
  "nbformat_minor": 0,
  "metadata": {
    "colab": {
      "provenance": [],
      "authorship_tag": "ABX9TyP/eQfcD9L5l3XSYe7DLcOc",
      "include_colab_link": true
    },
    "kernelspec": {
      "name": "python3",
      "display_name": "Python 3"
    },
    "language_info": {
      "name": "python"
    }
  },
  "cells": [
    {
      "cell_type": "markdown",
      "metadata": {
        "id": "view-in-github",
        "colab_type": "text"
      },
      "source": [
        "<a href=\"https://colab.research.google.com/github/Sandra69-ms/python_case_study_class_Activity_upload_to_patshala/blob/main/statistics_case_study_.ipynb\" target=\"_parent\"><img src=\"https://colab.research.google.com/assets/colab-badge.svg\" alt=\"Open In Colab\"/></a>"
      ]
    },
    {
      "cell_type": "markdown",
      "source": [
        "Question Number 1\n",
        "\n",
        "Dataset: Monthly temperatures in a city (in °C): 12, 15, 14, 16, 18, 20, 22, 19,17, 15, 13, 10\n",
        "\n",
        " Questions:\n",
        "\n",
        " a) Calculate the mean temperature.\n",
        "\n",
        " b) Calculate the median temperature.\n",
        "\n",
        " c) Find the mode of the temperature data.\n",
        "\n",
        " d) Range and Variance\n",
        "\n",
        "\n",
        "\n",
        "\n"
      ],
      "metadata": {
        "id": "2u6rYr22TWVF"
      }
    },
    {
      "cell_type": "code",
      "execution_count": 1,
      "metadata": {
        "id": "DSmyxkI8TE5o",
        "colab": {
          "base_uri": "https://localhost:8080/"
        },
        "outputId": "e0513fe0-f846-4b8f-d6b5-3ed1656861f8"
      },
      "outputs": [
        {
          "output_type": "stream",
          "name": "stdout",
          "text": [
            "mean = 15.916666666666666\n",
            "Median : 15.5\n",
            "mode = 15\n",
            "range = 12\n",
            "Varience = 12.083333333333334\n"
          ]
        }
      ],
      "source": [
        "dataset = [12, 15, 14, 16, 18, 20, 22, 19,17, 15, 13, 10]\n",
        "import statistics as stats\n",
        "#mean_temperature\n",
        "temp_mean =stats.mean(dataset)\n",
        "print( f\"mean = {temp_mean}\")\n",
        "#median\n",
        "temp_median =stats.median(dataset)\n",
        "print( f\"Median : {temp_median}\")\n",
        "#mode\n",
        "temp_mode = stats.mode(dataset)\n",
        "print( f\"mode = {temp_mode}\")\n",
        "\n",
        "#range\n",
        "temp_range = max(dataset) - min(dataset)\n",
        "print( f\"range = {temp_range}\")\n",
        "\n",
        "# varience\n",
        "temp_var = stats.variance(dataset)\n",
        "print(f\"Varience = {temp_var}\")\n",
        "\n",
        "\n",
        "\n"
      ]
    },
    {
      "cell_type": "markdown",
      "source": [
        "Question number 2\n",
        "\n",
        " Dataset: Heights of students (in cm): 150, 160, 165, 170, 155, 160, 162, 168\n",
        "\n",
        " Questions:\n",
        "\n",
        " a) Calculate the range of the heights.\n",
        "\n",
        " b) Calculate the variance of the heights.\n",
        "\n",
        " c) Standard Deviation"
      ],
      "metadata": {
        "id": "fi7YasBWhYDv"
      }
    },
    {
      "cell_type": "code",
      "source": [
        "dataset1 = [150, 160, 165, 170, 155, 160, 162, 168]\n",
        "\n",
        "# range_height\n",
        "range_height = max(dataset1)-min(dataset1)\n",
        "print( f\" Range = {range_height}\")\n",
        "\n",
        "#varience\n",
        "var_height = stats.variance(dataset1)\n",
        "print(f\" variance = {var_height}\")\n",
        "\n",
        "#standard deviation\n",
        "sd_height = stats.stdev(dataset1)\n",
        "print(f\" Standard_Deviation ={sd_height}\")\n"
      ],
      "metadata": {
        "colab": {
          "base_uri": "https://localhost:8080/"
        },
        "id": "eH-tytG2hXoB",
        "outputId": "fc28e5a3-8453-465d-bc3e-a80b833b0de1"
      },
      "execution_count": 2,
      "outputs": [
        {
          "output_type": "stream",
          "name": "stdout",
          "text": [
            " Range = 20\n",
            " variance = 43.642857142857146\n",
            " Standard_Deviation =6.606274074155351\n"
          ]
        }
      ]
    },
    {
      "cell_type": "markdown",
      "source": [
        "Question number 3\n",
        "\n",
        " Dataset: Weekly expenses (in $): 200, 250, 300, 220, 270, 290, 310\n",
        "\n",
        " Questions:\n",
        "\n",
        "  a) Calculate the standard deviation of the weekly expenses"
      ],
      "metadata": {
        "id": "mMmqUwRxhmb9"
      }
    },
    {
      "cell_type": "code",
      "source": [
        "dataset2 = [200, 250, 300, 220, 270, 290, 310]\n",
        "\n",
        "#standard_deviation\n",
        "sd_expense = stats.stdev(dataset2)\n",
        "print(f\"Standard_deviation ={sd_expense}\")"
      ],
      "metadata": {
        "colab": {
          "base_uri": "https://localhost:8080/"
        },
        "id": "r9J-oN7IhloJ",
        "outputId": "b75f0f55-fb03-4450-ca5f-67daa4334a57"
      },
      "execution_count": 3,
      "outputs": [
        {
          "output_type": "stream",
          "name": "stdout",
          "text": [
            "Standard_deviation =41.5187851918806\n"
          ]
        }
      ]
    },
    {
      "cell_type": "markdown",
      "source": [
        "Question 4\n",
        "\n",
        " Dataset: Advertising Spending (in $1000s): 10, 20, 15, 25, 30\n",
        "\n",
        "  Sales (in$1000s): 100, 150, 120, 180, 200\n",
        "\n",
        " Questions:\n",
        " a) Calculate the covariance between advertising spending and sales.\n",
        "\n",
        " b) Correlation"
      ],
      "metadata": {
        "id": "vXdudLCIn0Zl"
      }
    },
    {
      "cell_type": "code",
      "source": [
        "ad_data =[ 10, 20, 15, 25, 30]\n",
        "sale_data=[100, 150, 120, 180, 200]\n",
        "\n",
        "\n",
        "#mean\n",
        "mean_ad =sum(ad_data)/len(ad_data)\n",
        "mean_sale = sum(sale_data)/len(sale_data)\n",
        "cov_ad_sale =0\n",
        "for i in range(len(ad_data)):\n",
        "\n",
        "  cov_ad_sale +=(ad_data[i]-mean_ad)*(sale_data[i]- mean_sale)\n",
        "cov_ad_sale =cov_ad_sale/len(ad_data)\n",
        "print( f\" Covarience = {cov_ad_sale}\")\n",
        "\n",
        "#corelation\n",
        "\n",
        "sd_ad_data =stats.stdev(ad_data)\n",
        "sd_sale_data = stats.stdev(sale_data)\n",
        "\n",
        "#corr = cov/ stdv(sale,ad)\n",
        "corr = cov_ad_sale/(sd_ad_data*sd_sale_data)\n",
        "print(f\"Correlation = {corr}\")\n"
      ],
      "metadata": {
        "colab": {
          "base_uri": "https://localhost:8080/"
        },
        "id": "WiY1Ccd8n0GF",
        "outputId": "d3d287fe-df25-467a-fc3b-e7d92fc90b7b"
      },
      "execution_count": 8,
      "outputs": [
        {
          "output_type": "stream",
          "name": "stdout",
          "text": [
            " Covarience = 260.0\n",
            "Correlation = 0.7976435884012653\n"
          ]
        }
      ]
    },
    {
      "cell_type": "markdown",
      "source": [
        "Question number 5\n",
        "\n",
        "Dataset: Study Hours: 2, 4, 6, 8, 10;\n",
        "\n",
        " Exam Scores: 55, 60, 65, 70,75\n",
        "\n",
        " Questions: a) Calculate the correlation coefficient between study hours and examscores.\n",
        "\n",
        " b) Interpret the result.\n",
        "\n",
        " c) Quartiles and IQR"
      ],
      "metadata": {
        "id": "YetAmcetoIrS"
      }
    },
    {
      "cell_type": "code",
      "source": [
        "study_hrs =[2,4,6,8,10]\n",
        "exam_scores =[55,60,65,70,75]\n",
        "\n",
        "#correlation\n",
        "mean1_study =sum(study_hrs)/len(study_hrs)\n",
        "mean2_exam = sum(exam_scores)/len(exam_scores)\n",
        "#print(mean1_study)\n",
        "#print(mean2_exam)\n",
        "\n",
        "cov_study_exam =0\n",
        "for i in  range(len(study_hrs)):\n",
        "  cov_study_exam +=(study_hrs [i]-mean1_study)*(exam_scores[i]-mean2_exam)\n",
        "cov_study_exam =cov_study_exam /len(study_hrs)\n",
        "#print(f\" Covarience = {cov_study_exam}\")\n",
        "\n",
        "sd_study =stats.stdev(study_hrs)\n",
        "sd_exam =stats.stdev(exam_scores)\n",
        "\n",
        "corr1 =cov_study_exam /(sd_study* sd_exam)\n",
        "print(f\"Correlation ={ corr1}\")\n",
        "\n",
        "#interpretation\n",
        "\n",
        "print(\"Here the correlation is 0.8 which shows positive coorelation which means here when the study hours increases the exam scores also increases\")\n",
        "\n",
        "#Quartile and IQR\n",
        "\n",
        "import numpy as np\n",
        "\n",
        "Q1_study = np.percentile(study_hrs, 25)\n",
        "Q2_study = np.median(study_hrs)\n",
        "Q3_study = np.percentile(study_hrs, 75)\n",
        "print(f\"Q1 study houres = {Q1_study}\")\n",
        "print(f\"Q2 study houres = {Q2_study}\")\n",
        "print(f\"Q3  study houres= {Q3_study}\")\n",
        "\n",
        "IQR_study = Q3_study -Q1_study\n",
        "print(f\" IQR of study = {IQR_study}\")\n",
        "\n",
        "Q1_scores = np.percentile(exam_scores, 25)\n",
        "Q2_scores = np.median(exam_scores)\n",
        "Q3_scores= np.percentile(exam_scores, 75)\n",
        "print(f\"Q1 0f exam scores =  {Q1_scores}\")\n",
        "print(f\"Q2 of exam Scores = {Q2_scores}\")\n",
        "print(f\" Q3 of Exam scores = {Q3_scores}\")\n",
        "\n",
        "IQR_scores = Q3_scores - Q1_scores\n",
        "print(f\" IQR of exam scores = { IQR_scores}\")\n",
        "\n",
        "\n"
      ],
      "metadata": {
        "colab": {
          "base_uri": "https://localhost:8080/"
        },
        "id": "YAlwfpW3nz3a",
        "outputId": "33aeb3a6-61d7-4220-dfe5-ce3eea4fac06"
      },
      "execution_count": 20,
      "outputs": [
        {
          "output_type": "stream",
          "name": "stdout",
          "text": [
            "Correlation =0.8\n",
            "Here the correlation is 0.8 which shows positive coorelation which means here when the study hours increases the exam scores also increases\n",
            "Q1 study houres = 4.0\n",
            "Q2 study houres = 6.0\n",
            "Q3  study houres= 8.0\n",
            " IQR of study = 4.0\n",
            "Q1 0f exam scores =  60.0\n",
            "Q2 of exam Scores = 65.0\n",
            " Q3 of Exam scores = 70.0\n",
            " IQR of exam scores = 10.0\n"
          ]
        }
      ]
    },
    {
      "cell_type": "markdown",
      "source": [
        "Question number 6\n",
        "\n",
        " Dataset: Monthly savings (in $): 200, 300, 400, 500, 600, 700, 800, 900, 1000,1100\n",
        "\n",
        "  Questions:\n",
        "  a) Calculate the first quartile (Q1) and third quartile (Q3).\n",
        "\n",
        " b) Calculate the interquartile range (IQR).\n",
        "\n",
        " c) Detecting Outlier"
      ],
      "metadata": {
        "id": "iM7UDiJg7hcs"
      }
    },
    {
      "cell_type": "code",
      "source": [
        "mon_data =[200, 300, 400, 500, 600, 700, 800, 900, 1000,1100]\n",
        "\n",
        "\n",
        "#Q1 Q2\n",
        "Q1_mon = np.percentile(mon_data, 25)\n",
        "Q3_mon = np.percentile(mon_data, 75)\n",
        "\n",
        "print(f\"Q1 = {Q1_mon} \")\n",
        "print(f\"Q3 = {Q3_mon}\")\n",
        "\n",
        "#IQR\n",
        "IQR = Q3_mon - Q1_mon\n",
        "print(f\" IQR = {IQR}\")\n",
        "\n",
        "#outlier\n",
        "lower_bound=Q1_mon-(1.5*IQR)\n",
        "upper_bound=Q3_mon+(1.5*IQR)\n",
        "\n",
        "\n",
        "outlier =[]\n",
        "\n",
        "for i in mon_data:\n",
        "  if i<lower_bound or i> upper_bound :\n",
        "    outlier.append(i)\n",
        "if len(outlier)>0:\n",
        "   print(outlier)\n",
        "else:\n",
        "    print(\"no outlier\")\n",
        "\n"
      ],
      "metadata": {
        "colab": {
          "base_uri": "https://localhost:8080/"
        },
        "id": "RJQ2uXLD7c0j",
        "outputId": "b50788d2-8614-4915-e7d3-53ffb38a680c"
      },
      "execution_count": 29,
      "outputs": [
        {
          "output_type": "stream",
          "name": "stdout",
          "text": [
            "Q1 = 425.0 \n",
            "Q3 = 875.0\n",
            " IQR = 450.0\n",
            "no outlier\n"
          ]
        }
      ]
    },
    {
      "cell_type": "markdown",
      "source": [
        "Question number 7\n",
        "\n",
        "Dataset: Ages of employees: 22, 25, 28, 30, 35, 40, 45, 50, 55, 100\n",
        "\n",
        " Questions:\n",
        "\n",
        " a) Identify any outliers using the IQR method."
      ],
      "metadata": {
        "id": "6t9WINGD_qig"
      }
    },
    {
      "cell_type": "code",
      "source": [
        "age_data =[22, 25, 28, 30, 35, 40, 45, 50, 55, 100]\n",
        "\n",
        "#Q1 Q2\n",
        "Q1_age = np.percentile(age_data, 25)\n",
        "Q3_age = np.percentile(age_data, 75)\n",
        "\n",
        "#print(f\"Q1 = {Q1_age} \")\n",
        "#print(f\"Q3 = {Q3_age}\")\n",
        "\n",
        "#IQR\n",
        "IQR_age = Q3_age - Q1_age\n",
        "#print(f\" IQR = {IQR}\")\n",
        "\n",
        "#outlier\n",
        "lower_bound=Q1_age-(1.5*IQR_age)\n",
        "upper_bound=Q3_age+(1.5*IQR_age)\n",
        "\n",
        "\n",
        "outlier =[]\n",
        "\n",
        "for i in age_data:\n",
        "  if i<lower_bound or i> upper_bound :\n",
        "    outlier.append(i)\n",
        "if len(outlier)>0:\n",
        "   print(outlier)\n",
        "else:\n",
        "    print(\"no outlier\")\n",
        "\n"
      ],
      "metadata": {
        "colab": {
          "base_uri": "https://localhost:8080/"
        },
        "id": "ZOOSAUxz_qJJ",
        "outputId": "081d936f-c74c-45fe-f316-6910684a4b9f"
      },
      "execution_count": 30,
      "outputs": [
        {
          "output_type": "stream",
          "name": "stdout",
          "text": [
            "[100]\n"
          ]
        }
      ]
    },
    {
      "cell_type": "markdown",
      "source": [
        "Question number 8\n",
        "\n",
        "Dataset: Observed frequencies of customer preferences for three products:\n",
        "\n",
        "Product A: 50, 55, 60\n",
        "\n",
        " Product B: 30, 25, 35\n",
        "\n",
        " Product C: 20, 20, 25\n",
        "\n",
        " Questions:\n",
        " a) Perform a chi-square test to determine if there is a significant difference in customer preferences among the three products.\n",
        "\n",
        " b) HypothesisTesting"
      ],
      "metadata": {
        "id": "8DG25NPS_rxk"
      }
    },
    {
      "cell_type": "code",
      "source": [],
      "metadata": {
        "id": "QukIrcfS_rTa"
      },
      "execution_count": null,
      "outputs": []
    },
    {
      "cell_type": "markdown",
      "source": [
        "Question number 9\n",
        "\n",
        "Dataset: Sample weights (in kg) of a new diet program: 70, 68, 72, 71, 69, 73,72, 74, 70, 71\n",
        "\n",
        " Questions: a)Test the hypothesis that the mean weight after the\n",
        " diet program is equal to 70 kg at a 5% significance level.\n",
        "\n",
        "  b) Z-Scores"
      ],
      "metadata": {
        "id": "irrDT1pDCADr"
      }
    },
    {
      "cell_type": "code",
      "source": [
        "\n",
        "\n",
        "from scipy.stats import t\n",
        "\n",
        "\n",
        "weights = [70, 68, 72, 71, 69, 73, 72, 74, 70, 71]\n",
        "n = len(weights)\n",
        "\n",
        "\n",
        "mean_sample = sum(weights) / n\n",
        "\n",
        "variance = sum((x - mean_sample)**2 for x in weights) / (n - 1)\n",
        "std_dev = variance ** 0.5\n",
        "\n",
        "\n",
        "mu = 70\n",
        "t_stat = (mean_sample - mu) / (std_dev / (n ** 0.5))\n",
        "\n",
        "alpha = 0.05\n",
        "df = 9\n",
        "\n",
        "\n",
        "t_critical = t.ppf(1 - alpha/2, df)\n",
        "\n",
        "print(\"Critical t-value (two-tailed, α=0.05, df=9):\", t_critical)\n",
        "\n",
        "\n",
        "\n",
        "\n",
        "t_critical = 2.262\n",
        "if abs(t_stat) > t_critical:\n",
        "    result = \"Reject H₀: Mean is significantly different from 70 kg\"\n",
        "else:\n",
        "    result = \"Fail to reject H₀: No significant difference from 70 kg\"\n",
        "\n",
        "\n",
        "print(f\"Sample Mean: {mean_sample:.2f}\")\n",
        "print(f\"t-statistic: {t_stat:.3f}\")\n",
        "print(result)\n",
        "\n",
        "\n",
        "#Z-scores\n",
        "\n",
        "z_scores_w = [(x - mean_sample) / std_dev for x in weights]\n",
        "\n",
        "for i, z in enumerate(z_scores_w):\n",
        "    print(f\"Weight {weights[i]} kg → Z-score: {z:.2f}\")\n",
        "\n",
        "\n",
        "\n",
        "\n"
      ],
      "metadata": {
        "colab": {
          "base_uri": "https://localhost:8080/"
        },
        "id": "DHX_34bpB_sr",
        "outputId": "53ed6484-c00a-465a-8c83-77e2598c8de9"
      },
      "execution_count": 35,
      "outputs": [
        {
          "output_type": "stream",
          "name": "stdout",
          "text": [
            "Critical t-value (two-tailed, α=0.05, df=9): 2.2621571628540993\n",
            "Sample Mean: 71.00\n",
            "t-statistic: 1.732\n",
            "Fail to reject H₀: No significant difference from 70 kg\n",
            "Weight 70 kg → Z-score: -0.55\n",
            "Weight 68 kg → Z-score: -1.64\n",
            "Weight 72 kg → Z-score: 0.55\n",
            "Weight 71 kg → Z-score: 0.00\n",
            "Weight 69 kg → Z-score: -1.10\n",
            "Weight 73 kg → Z-score: 1.10\n",
            "Weight 72 kg → Z-score: 0.55\n",
            "Weight 74 kg → Z-score: 1.64\n",
            "Weight 70 kg → Z-score: -0.55\n",
            "Weight 71 kg → Z-score: 0.00\n"
          ]
        }
      ]
    },
    {
      "cell_type": "markdown",
      "source": [
        "Question number 10\n",
        "\n",
        "Dataset: Annual salaries of employees (in $1000s): 40, 42, 45, 47, 50, 52, 55,57, 60, 62\n",
        "\n",
        " Questions: a) Calculate the z-scores for each salary.\n",
        "\n",
        " b) Interpret the z-scores.\n",
        "\n",
        " c) Normal Distribution"
      ],
      "metadata": {
        "id": "HMVotEfUCilP"
      }
    },
    {
      "cell_type": "code",
      "source": [
        "\n",
        "salaries = [40, 42, 45, 47, 50, 52, 55, 57, 60, 62]\n",
        "\n",
        "n = len(salaries)\n",
        "mean = sum(salaries) / n\n",
        "\n",
        "squared_diffs = [(x - mean) ** 2 for x in salaries]\n",
        "variance = sum(squared_diffs) / n\n",
        "std_dev = variance ** 0.5\n",
        "\n",
        "z_scores_s = [(x - mean) / std_dev for x in salaries]\n",
        "\n",
        "\n",
        "for salary, z in zip(salaries, z_scores_s):\n",
        "    print(f\"Salary: ${salary}k → Z-score: {z}\")\n",
        "\n",
        "\n",
        "print('These z-scores represent how each salary value deviates from the mean salary in a standardized way')\n",
        "print(\"Negative z-score → Below the mean Positive z-score → Above the mean  Z-score of 0 → Exactly at the mean\")\n",
        "\n",
        "\n",
        "\n",
        "\n"
      ],
      "metadata": {
        "colab": {
          "base_uri": "https://localhost:8080/"
        },
        "id": "YWBxQlkvCjfx",
        "outputId": "506a7380-0864-4431-b8b2-2c7f7d792661"
      },
      "execution_count": 39,
      "outputs": [
        {
          "output_type": "stream",
          "name": "stdout",
          "text": [
            "Salary: $40k → Z-score: -1.5403080924308108\n",
            "Salary: $42k → Z-score: -1.2602520756252087\n",
            "Salary: $45k → Z-score: -0.8401680504168059\n",
            "Salary: $47k → Z-score: -0.5601120336112039\n",
            "Salary: $50k → Z-score: -0.14002800840280097\n",
            "Salary: $52k → Z-score: 0.14002800840280097\n",
            "Salary: $55k → Z-score: 0.5601120336112039\n",
            "Salary: $57k → Z-score: 0.8401680504168059\n",
            "Salary: $60k → Z-score: 1.2602520756252087\n",
            "Salary: $62k → Z-score: 1.5403080924308108\n",
            "These z-scores represent how each salary value deviates from the mean salary in a standardized way\n",
            "Negative z-score → Below the mean Positive z-score → Above the mean  Z-score of 0 → Exactly at the mean\n"
          ]
        }
      ]
    },
    {
      "cell_type": "markdown",
      "source": [
        "Question number 11\n",
        "\n",
        " Dataset: Scores of students in a standardized test: 85, 87, 90, 92, 95, 97,100, 102, 105, 107\n",
        "\n",
        " Questions:\n",
        "  a) Create a histogram of the test scores.\n",
        "\n",
        " b) Fit a normal distribution to the data and calculate the mean and standard deviation.\n",
        "\n",
        " c) P-Values"
      ],
      "metadata": {
        "id": "osViWyV2MFc0"
      }
    },
    {
      "cell_type": "code",
      "source": [
        "scores_student=[85,87, 90, 92, 95, 97, 100, 102, 105, 107]\n",
        "\n",
        "n = len(scores_student)\n",
        "\n",
        "\n",
        "mean_scr = sum(scores_student) / n\n",
        "\n",
        "variance_scr= sum((x - mean_scr)**2 for x in scores_student) / (n - 1)\n",
        "std_dev_scr= variance_scr ** 0.5\n",
        "\n",
        "z_score_scr = [(x - mean_scr) / std_dev_scr for x in scores_student]\n",
        "print(z_score_scr)\n",
        "\n",
        "mean_score=sum(z_score_scr)/len(z_score_scr)\n",
        "print(f\"mean = {mean_score}\")\n",
        "std=stats.stdev(z_score_scr)\n",
        "print( f\"standard deviation :{std}\")\n",
        "\n",
        "from scipy.stats import shapiro\n",
        "\n",
        "scores_student = [85,87,90,92,95,97,100,102,105,107]\n",
        "stat, p_value = shapiro(scores_student)\n",
        "print(f\"Shapiro-Wilk p-value: {p_value}\")"
      ],
      "metadata": {
        "colab": {
          "base_uri": "https://localhost:8080/"
        },
        "id": "PkZkCxQzMFGp",
        "outputId": "b293c2a7-52b8-4aad-a724-83bd01067182"
      },
      "execution_count": 43,
      "outputs": [
        {
          "output_type": "stream",
          "name": "stdout",
          "text": [
            "[-1.4612645611411572, -1.1955800954791287, -0.7970533969860858, -0.5313689313240572, -0.1328422328310143, 0.1328422328310143, 0.5313689313240572, 0.7970533969860858, 1.1955800954791287, 1.4612645611411572]\n",
            "mean = 0.0\n",
            "standard deviation :1.0\n",
            "Shapiro-Wilk p-value: 0.8349302637954983\n"
          ]
        }
      ]
    },
    {
      "cell_type": "code",
      "source": [],
      "metadata": {
        "id": "SPQcUmIfMB6m"
      },
      "execution_count": null,
      "outputs": []
    }
  ]
}